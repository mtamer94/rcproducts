{
 "cells": [
  {
   "cell_type": "code",
   "execution_count": 2,
   "id": "7d95c777",
   "metadata": {},
   "outputs": [],
   "source": [
    "import pandas as pd"
   ]
  },
  {
   "cell_type": "code",
   "execution_count": 3,
   "id": "a58596bd",
   "metadata": {},
   "outputs": [],
   "source": [
    "catalogue = pd.read_csv('catalogue.csv')"
   ]
  },
  {
   "cell_type": "code",
   "execution_count": 4,
   "id": "fa93f4cf",
   "metadata": {},
   "outputs": [
    {
     "data": {
      "text/html": [
       "<div>\n",
       "<style scoped>\n",
       "    .dataframe tbody tr th:only-of-type {\n",
       "        vertical-align: middle;\n",
       "    }\n",
       "\n",
       "    .dataframe tbody tr th {\n",
       "        vertical-align: top;\n",
       "    }\n",
       "\n",
       "    .dataframe thead th {\n",
       "        text-align: right;\n",
       "    }\n",
       "</style>\n",
       "<table border=\"1\" class=\"dataframe\">\n",
       "  <thead>\n",
       "    <tr style=\"text-align: right;\">\n",
       "      <th></th>\n",
       "      <th>MPNs</th>\n",
       "    </tr>\n",
       "  </thead>\n",
       "  <tbody>\n",
       "    <tr>\n",
       "      <th>0</th>\n",
       "      <td>08G-P5-3667-KL</td>\n",
       "    </tr>\n",
       "    <tr>\n",
       "      <th>1</th>\n",
       "      <td>08G-P5-3751-KL</td>\n",
       "    </tr>\n",
       "    <tr>\n",
       "      <th>2</th>\n",
       "      <td>08G-P5-3751-KR</td>\n",
       "    </tr>\n",
       "    <tr>\n",
       "      <th>3</th>\n",
       "      <td>08G-P5-3755-KL</td>\n",
       "    </tr>\n",
       "    <tr>\n",
       "      <th>4</th>\n",
       "      <td>08G-P5-3767-KL</td>\n",
       "    </tr>\n",
       "    <tr>\n",
       "      <th>...</th>\n",
       "      <td>...</td>\n",
       "    </tr>\n",
       "    <tr>\n",
       "      <th>1344</th>\n",
       "      <td>ZT-A30900D-10P</td>\n",
       "    </tr>\n",
       "    <tr>\n",
       "      <th>1345</th>\n",
       "      <td>ZT-A30900J-10P</td>\n",
       "    </tr>\n",
       "    <tr>\n",
       "      <th>1346</th>\n",
       "      <td>ZT-T20610B-10P</td>\n",
       "    </tr>\n",
       "    <tr>\n",
       "      <th>1347</th>\n",
       "      <td>ZT-T20610D-10P</td>\n",
       "    </tr>\n",
       "    <tr>\n",
       "      <th>1348</th>\n",
       "      <td>ZT-T20610E-10M</td>\n",
       "    </tr>\n",
       "  </tbody>\n",
       "</table>\n",
       "<p>1349 rows × 1 columns</p>\n",
       "</div>"
      ],
      "text/plain": [
       "                MPNs\n",
       "0     08G-P5-3667-KL\n",
       "1     08G-P5-3751-KL\n",
       "2     08G-P5-3751-KR\n",
       "3     08G-P5-3755-KL\n",
       "4     08G-P5-3767-KL\n",
       "...              ...\n",
       "1344  ZT-A30900D-10P\n",
       "1345  ZT-A30900J-10P\n",
       "1346  ZT-T20610B-10P\n",
       "1347  ZT-T20610D-10P\n",
       "1348  ZT-T20610E-10M\n",
       "\n",
       "[1349 rows x 1 columns]"
      ]
     },
     "execution_count": 4,
     "metadata": {},
     "output_type": "execute_result"
    }
   ],
   "source": [
    "catalogue"
   ]
  },
  {
   "cell_type": "code",
   "execution_count": 5,
   "id": "13d96485",
   "metadata": {},
   "outputs": [],
   "source": [
    "list = catalogue['MPNs']"
   ]
  },
  {
   "cell_type": "code",
   "execution_count": 6,
   "id": "74aa647f",
   "metadata": {},
   "outputs": [
    {
     "data": {
      "text/plain": [
       "0       08G-P5-3667-KL\n",
       "1       08G-P5-3751-KL\n",
       "2       08G-P5-3751-KR\n",
       "3       08G-P5-3755-KL\n",
       "4       08G-P5-3767-KL\n",
       "             ...      \n",
       "1344    ZT-A30900D-10P\n",
       "1345    ZT-A30900J-10P\n",
       "1346    ZT-T20610B-10P\n",
       "1347    ZT-T20610D-10P\n",
       "1348    ZT-T20610E-10M\n",
       "Name: MPNs, Length: 1349, dtype: object"
      ]
     },
     "execution_count": 6,
     "metadata": {},
     "output_type": "execute_result"
    }
   ],
   "source": [
    "list\n"
   ]
  },
  {
   "cell_type": "code",
   "execution_count": 9,
   "id": "b9045982",
   "metadata": {},
   "outputs": [],
   "source": [
    "if 'dog' in list: print('yes') else: print('no')"
   ]
  },
  {
   "cell_type": "code",
   "execution_count": null,
   "id": "aa70b6e5",
   "metadata": {},
   "outputs": [],
   "source": []
  }
 ],
 "metadata": {
  "kernelspec": {
   "display_name": "Python 3",
   "language": "python",
   "name": "python3"
  },
  "language_info": {
   "codemirror_mode": {
    "name": "ipython",
    "version": 3
   },
   "file_extension": ".py",
   "mimetype": "text/x-python",
   "name": "python",
   "nbconvert_exporter": "python",
   "pygments_lexer": "ipython3",
   "version": "3.8.8"
  }
 },
 "nbformat": 4,
 "nbformat_minor": 5
}
